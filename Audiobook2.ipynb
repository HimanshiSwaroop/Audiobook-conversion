{
 "cells": [
  {
   "cell_type": "code",
   "execution_count": 12,
   "metadata": {},
   "outputs": [],
   "source": [
    "import PyPDF2 as reader\n",
    "from gtts import gTTS\n",
    "import os\n",
    "from playsound import playsound"
   ]
  },
  {
   "cell_type": "code",
   "execution_count": 13,
   "metadata": {},
   "outputs": [
    {
     "name": "stdout",
     "output_type": "stream",
     "text": [
      "16\n"
     ]
    }
   ],
   "source": [
    "filename = 'Facebook.pdf'\n",
    "\n",
    "with open(filename,'rb') as book:\n",
    "    pdfReader = reader.PdfFileReader(book)\n",
    "    pages = pdfReader.numPages\n",
    "    print(pages)\n",
    "    for num in range(0,pages):\n",
    "        page = pdfReader.getPage(num)\n",
    "        text = page.extractText()\n",
    "        tts = gTTS(text)\n",
    "    tts.save('FacebookCaseStudy.mp3')\n",
    "    tts.get_urls()"
   ]
  },
  {
   "cell_type": "code",
   "execution_count": 29,
   "metadata": {},
   "outputs": [
    {
     "data": {
      "text/plain": [
       "['https://translate.google.com/translate_tts?ie=UTF-8&q=hello+himanshi&tl=en&ttsspeed=1&total=1&idx=0&client=tw-ob&textlen=14&tk=585513.926338']"
      ]
     },
     "execution_count": 29,
     "metadata": {},
     "output_type": "execute_result"
    }
   ],
   "source": [
    "tts = gTTS(\"hello himanshi\")\n",
    "tts.get_urls()"
   ]
  },
  {
   "cell_type": "code",
   "execution_count": null,
   "metadata": {},
   "outputs": [],
   "source": []
  }
 ],
 "metadata": {
  "kernelspec": {
   "display_name": "Python 3",
   "language": "python",
   "name": "python3"
  },
  "language_info": {
   "codemirror_mode": {
    "name": "ipython",
    "version": 3
   },
   "file_extension": ".py",
   "mimetype": "text/x-python",
   "name": "python",
   "nbconvert_exporter": "python",
   "pygments_lexer": "ipython3",
   "version": "3.7.3"
  }
 },
 "nbformat": 4,
 "nbformat_minor": 2
}
